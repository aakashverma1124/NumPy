{
 "cells": [
  {
   "cell_type": "code",
   "execution_count": 1,
   "metadata": {},
   "outputs": [
    {
     "name": "stdout",
     "output_type": "stream",
     "text": [
      "28000\n",
      "8000\n"
     ]
    }
   ],
   "source": [
    "# this code shows that numPy array takes less memory as compared to list.\n",
    "import numpy as np\n",
    "import time\n",
    "import sys\n",
    "\n",
    "ls = range(1000)\n",
    "print(sys.getsizeof(5)*len(ls))\n",
    "\n",
    "ds = np.arange(1000)\n",
    "print(ds.size*ds.itemsize)"
   ]
  }
 ],
 "metadata": {
  "kernelspec": {
   "display_name": "Python 3",
   "language": "python",
   "name": "python3"
  },
  "language_info": {
   "codemirror_mode": {
    "name": "ipython",
    "version": 3
   },
   "file_extension": ".py",
   "mimetype": "text/x-python",
   "name": "python",
   "nbconvert_exporter": "python",
   "pygments_lexer": "ipython3",
   "version": "3.6.5"
  }
 },
 "nbformat": 4,
 "nbformat_minor": 2
}
